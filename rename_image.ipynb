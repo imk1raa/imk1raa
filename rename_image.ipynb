{
  "nbformat": 4,
  "nbformat_minor": 0,
  "metadata": {
    "colab": {
      "provenance": [],
      "authorship_tag": "ABX9TyPfvOI+BcmlKcVo0VBgv6Cg",
      "include_colab_link": true
    },
    "kernelspec": {
      "name": "python3",
      "display_name": "Python 3"
    },
    "language_info": {
      "name": "python"
    }
  },
  "cells": [
    {
      "cell_type": "markdown",
      "metadata": {
        "id": "view-in-github",
        "colab_type": "text"
      },
      "source": [
        "<a href=\"https://colab.research.google.com/github/imk1raa/imk1raa/blob/main/rename_image.ipynb\" target=\"_parent\"><img src=\"https://colab.research.google.com/assets/colab-badge.svg\" alt=\"Open In Colab\"/></a>"
      ]
    },
    {
      "cell_type": "code",
      "execution_count": null,
      "metadata": {
        "id": "d9QW9ODv2b9O"
      },
      "outputs": [],
      "source": [
        "import os\n",
        "\n",
        "\n",
        "folder_path = r'C##############################'\n",
        "start_index = 1\n",
        "\n",
        "name_prefix = 'image_'\n",
        "\n",
        "files = [f for f in os.listdir(folder_path) if os.path.isfile(os.path.join(folder_path, f))]\n",
        "\n",
        "for i, filename in enumerate(files, start=start_index):\n",
        "    file_extension = os.path.splitext(filename)[1]  # שמירה על סיומת הקובץ (.jpg, .txt וכו')\n",
        "    new_name = f\"{name_prefix}{i}{file_extension}\"\n",
        "\n",
        "    old_file = os.path.join(folder_path, filename)\n",
        "    new_file = os.path.join(folder_path, new_name)\n",
        "\n",
        "    os.rename(old_file, new_file)\n",
        "    print(f\"Renamed '{filename}' to '{new_name}'\")\n",
        "\n",
        "print(\"Done renaming files!\")"
      ]
    }
  ]
}